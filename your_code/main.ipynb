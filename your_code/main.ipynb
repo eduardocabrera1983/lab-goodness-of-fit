{
 "cells": [
  {
   "cell_type": "markdown",
   "metadata": {},
   "source": [
    "## Question 1\n",
    "A researcher gathers information about the patterns of Physical Activity of children in the fifth grade of primary school of a public school. He defines three categories of physical activity (Low, Medium, High). He also inquires about the regular consumption of sugary drinks at school, and defines two categories (Yes = consumed, No = not consumed). We would like to evaluate if there is an association between patterns of physical activity and the consumption of sugary drinks for the children of this school, at a level of 5% significance. The results are in the following table: \n",
    "\n",
    "![](table4.png)"
   ]
  },
  {
   "cell_type": "code",
   "execution_count": 2,
   "metadata": {},
   "outputs": [],
   "source": [
    "# your answer here\n",
    "import numpy as np\n",
    "import pandas as pd\n",
    "from scipy import stats\n",
    "import matplotlib.pyplot as plt\n",
    "import seaborn as sns\n",
    "\n"
   ]
  },
  {
   "cell_type": "code",
   "execution_count": 5,
   "metadata": {},
   "outputs": [],
   "source": [
    "# Create the contingency table\n",
    "\n",
    "observed = np.array([\n",
    "    [32, 12],  # Low activity: Yes drinks, No drinks\n",
    "    [14, 22],  # Medium activity: Yes drinks, No drinks\n",
    "    [6, 9]     # High activity: Yes drinks, No drinks\n",
    "])"
   ]
  },
  {
   "cell_type": "code",
   "execution_count": 6,
   "metadata": {},
   "outputs": [
    {
     "name": "stdout",
     "output_type": "stream",
     "text": [
      "Contingency Table:\n",
      "        Yes  No  Total\n",
      "Low      32  12     44\n",
      "Medium   14  22     36\n",
      "High      6   9     15\n",
      "Total    52  43     95\n",
      "\n",
      "\n"
     ]
    }
   ],
   "source": [
    "# Create a pandas DataFrame for better visualization\n",
    "activity_levels = ['Low', 'Medium', 'High']\n",
    "drink_consumption = ['Yes', 'No']\n",
    "df = pd.DataFrame(observed, index=activity_levels, columns=drink_consumption)\n",
    "df['Total'] = df.sum(axis=1)\n",
    "df.loc['Total'] = df.sum(axis=0)\n",
    "\n",
    "print(\"Contingency Table:\")\n",
    "print(df)\n",
    "print(\"\\n\")"
   ]
  },
  {
   "cell_type": "code",
   "execution_count": 7,
   "metadata": {},
   "outputs": [],
   "source": [
    "# Calculate the chi-square statistic, p-value, degrees of freedom, and expected frequencies\n",
    "chi2, p, dof, expected = stats.chi2_contingency(observed)"
   ]
  },
  {
   "cell_type": "code",
   "execution_count": 8,
   "metadata": {},
   "outputs": [
    {
     "name": "stdout",
     "output_type": "stream",
     "text": [
      "Expected Frequencies:\n",
      "              Yes         No\n",
      "Low     24.084211  19.915789\n",
      "Medium  19.705263  16.294737\n",
      "High     8.210526   6.789474\n",
      "\n",
      "\n"
     ]
    }
   ],
   "source": [
    "# Create a DataFrame for expected frequencies\n",
    "expected_df = pd.DataFrame(expected, index=activity_levels, columns=drink_consumption)\n",
    "print(\"Expected Frequencies:\")\n",
    "print(expected_df)\n",
    "print(\"\\n\")"
   ]
  },
  {
   "cell_type": "code",
   "execution_count": 9,
   "metadata": {},
   "outputs": [
    {
     "name": "stdout",
     "output_type": "stream",
     "text": [
      "Chi-Square Contribution by Cell:\n",
      "             Yes        No\n",
      "Low     2.601693  3.146233\n",
      "Medium  1.651844  1.997579\n",
      "High    0.595142  0.719706\n",
      "\n",
      "\n"
     ]
    }
   ],
   "source": [
    "# Calculate the chi-square contribution of each cell\n",
    "contribution = (observed - expected)**2 / expected\n",
    "contribution_df = pd.DataFrame(contribution, index=activity_levels, columns=drink_consumption)\n",
    "print(\"Chi-Square Contribution by Cell:\")\n",
    "print(contribution_df)\n",
    "print(\"\\n\")"
   ]
  },
  {
   "cell_type": "code",
   "execution_count": 10,
   "metadata": {},
   "outputs": [
    {
     "name": "stdout",
     "output_type": "stream",
     "text": [
      "Row Percentages (% within each activity level):\n",
      "              Yes         No\n",
      "Low     72.727273  27.272727\n",
      "Medium  38.888889  61.111111\n",
      "High    40.000000  60.000000\n",
      "\n",
      "\n"
     ]
    }
   ],
   "source": [
    "# Calculate the row percentages\n",
    "row_percentages = df.iloc[:-1, :2].div(df.iloc[:-1, 2], axis=0) * 100\n",
    "row_percentages_df = pd.DataFrame(row_percentages, index=activity_levels, columns=drink_consumption)\n",
    "print(\"Row Percentages (% within each activity level):\")\n",
    "print(row_percentages_df)\n",
    "print(\"\\n\")"
   ]
  },
  {
   "cell_type": "code",
   "execution_count": 11,
   "metadata": {},
   "outputs": [
    {
     "name": "stdout",
     "output_type": "stream",
     "text": [
      "Chi-Square Statistic: 10.7122\n",
      "P-value: 0.0047\n",
      "Degrees of Freedom: 2\n",
      "Critical Value at 5% significance level: 5.991\n"
     ]
    }
   ],
   "source": [
    "# Print the results\n",
    "print(f\"Chi-Square Statistic: {chi2:.4f}\")\n",
    "print(f\"P-value: {p:.4f}\")\n",
    "print(f\"Degrees of Freedom: {dof}\")\n",
    "print(f\"Critical Value at 5% significance level: 5.991\")"
   ]
  },
  {
   "cell_type": "code",
   "execution_count": 12,
   "metadata": {},
   "outputs": [
    {
     "name": "stdout",
     "output_type": "stream",
     "text": [
      "Decision: Reject the null hypothesis\n",
      "Conclusion: There is a significant association between physical activity levels and sugary drink consumption at a 5% significance level.\n"
     ]
    }
   ],
   "source": [
    "# Make a decision based on the p-value\n",
    "alpha = 0.05\n",
    "if p < alpha:\n",
    "    decision = \"Reject\"\n",
    "else:\n",
    "    decision = \"Fail to reject\"\n",
    "\n",
    "print(f\"Decision: {decision} the null hypothesis\")\n",
    "print(f\"Conclusion: There {'is' if p < alpha else 'is not'} a significant association between physical activity levels and sugary drink consumption at a 5% significance level.\")\n"
   ]
  },
  {
   "cell_type": "code",
   "execution_count": 17,
   "metadata": {},
   "outputs": [
    {
     "data": {
      "text/plain": [
       "<matplotlib.legend.Legend at 0x26697eb1590>"
      ]
     },
     "execution_count": 17,
     "metadata": {},
     "output_type": "execute_result"
    },
    {
     "data": {
      "image/png": "[encoded data removed]",
      "text/plain": [
       "<Figure size 1500x1000 with 1 Axes>"
      ]
     },
     "metadata": {},
     "output_type": "display_data"
    }
   ],
   "source": [
    "# Visualization\n",
    "plt.figure(figsize=(15, 10))\n",
    "\n",
    "# Plot 1: Stacked bar chart of counts\n",
    "plt.subplot(2, 2, 1)\n",
    "df.iloc[:-1, :2].plot(kind='bar', stacked=True, ax=plt.gca(), colormap='viridis')\n",
    "plt.title('Observed Counts by Physical Activity Level')\n",
    "plt.xlabel('Physical Activity Level')\n",
    "plt.ylabel('Count')\n",
    "plt.legend(title='Sugary Drinks Consumption')"
   ]
  },
  {
   "cell_type": "markdown",
   "metadata": {},
   "source": [
    "## [OPTIONAL] Question 2\n",
    "The following table indicates the number of 6-point scores in an American rugby match in the 1979 season.\n",
    "\n",
    "![](table1.png)\n",
    "\n",
    "Based on these results, we create a Poisson distribution with the sample mean parameter  = 2.435. Is there any reason to believe that at a .05 level the number of scores is a Poisson variable?\n",
    "\n",
    "Check [here](https://www.geeksforgeeks.org/how-to-create-a-poisson-probability-mass-function-plot-in-python/) how to create a poisson distribution and how to calculate the expected observations, using the probability mass function (pmf). \n",
    "A Poisson distribution is a discrete probability distribution. It gives the probability of an event happening a certain number of times (k) within a given interval of time or space. The Poisson distribution has only one parameter, λ (lambda), which is the mean number of events."
   ]
  },
  {
   "cell_type": "code",
   "execution_count": null,
   "metadata": {},
   "outputs": [],
   "source": [
    "# your answer here"
   ]
  }
 ],
 "metadata": {
  "kernelspec": {
   "display_name": "Python 3",
   "language": "python",
   "name": "python3"
  },
  "language_info": {
   "codemirror_mode": {
    "name": "ipython",
    "version": 3
   },
   "file_extension": ".py",
   "mimetype": "text/x-python",
   "name": "python",
   "nbconvert_exporter": "python",
   "pygments_lexer": "ipython3",
   "version": "3.13.3"
  }
 },
 "nbformat": 4,
 "nbformat_minor": 2
}
